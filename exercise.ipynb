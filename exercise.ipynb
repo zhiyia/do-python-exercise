{
 "cells": [
  {
   "cell_type": "code",
   "execution_count": 21,
   "metadata": {},
   "outputs": [
    {
     "name": "stdout",
     "output_type": "stream",
     "text": [
      "233168\n"
     ]
    }
   ],
   "source": [
    "sum3 = 0\n",
    "sum5 = 0\n",
    "for i in range(1000):\n",
    "    if i%3==0:\n",
    "        sum3 = sum3+i\n",
    "    elif i%5 ==0:\n",
    "        sum5 = sum5+i\n",
    "    sum = sum3+sum5\n",
    "print(sum)"
   ]
  },
  {
   "cell_type": "code",
   "execution_count": 23,
   "metadata": {},
   "outputs": [
    {
     "name": "stdout",
     "output_type": "stream",
     "text": [
      "233168\n"
     ]
    }
   ],
   "source": [
    "sum = 0\n",
    "for i in range(1000):\n",
    "    if i%3==0 or i%5==0:\n",
    "        sum +=i\n",
    "print(sum)"
   ]
  },
  {
   "cell_type": "code",
   "execution_count": null,
   "metadata": {},
   "outputs": [],
   "source": [
    "\n",
    "'''def f(n):\n",
    "    sum =0\n",
    "    for i in range(n):\n",
    "        if i%2==0:\n",
    "            sum +=i\n",
    "    return sum'''\n",
    "list = []\n",
    "for i in range(4000000):\n",
    "    if i==0 or i==1:\n",
    "        list.append(1)\n",
    "    else:\n",
    "        list.append(list[i-2]+list[i-1])\n",
    "print(list)"
   ]
  },
  {
   "cell_type": "code",
   "execution_count": null,
   "metadata": {},
   "outputs": [],
   "source": []
  }
 ],
 "metadata": {
  "kernelspec": {
   "display_name": "Python 3",
   "language": "python",
   "name": "python3"
  },
  "language_info": {
   "codemirror_mode": {
    "name": "ipython",
    "version": 3
   },
   "file_extension": ".py",
   "mimetype": "text/x-python",
   "name": "python",
   "nbconvert_exporter": "python",
   "pygments_lexer": "ipython3",
   "version": "3.6.3"
  }
 },
 "nbformat": 4,
 "nbformat_minor": 2
}
