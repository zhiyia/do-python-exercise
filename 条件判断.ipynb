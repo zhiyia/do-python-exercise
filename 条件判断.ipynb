{
 "cells": [
  {
   "cell_type": "markdown",
   "metadata": {},
   "source": [
    "# 条件判断"
   ]
  },
  {
   "cell_type": "code",
   "execution_count": 4,
   "metadata": {},
   "outputs": [
    {
     "name": "stdout",
     "output_type": "stream",
     "text": [
      "your age is  12\n",
      "baby or teenager\n"
     ]
    }
   ],
   "source": [
    "#if语句实现\n",
    "age = 12\n",
    "if age>=18:\n",
    "    print('your age is ', age)\n",
    "    print('you are not a baby')\n",
    "else:\n",
    "    print('your age is ', age)\n",
    "    print('baby or teenager')"
   ]
  },
  {
   "cell_type": "code",
   "execution_count": 6,
   "metadata": {},
   "outputs": [
    {
     "name": "stdout",
     "output_type": "stream",
     "text": [
      "just a baby\n"
     ]
    }
   ],
   "source": [
    "#elif的使用\n",
    "age = 3\n",
    "if age>=18:\n",
    "    print('your age is ', age)\n",
    "    print('you are not a baby')\n",
    "elif age>=6:\n",
    "    print('your age is ', age)\n",
    "    print('teenager')\n",
    "else:\n",
    "    print('just a baby')"
   ]
  },
  {
   "cell_type": "code",
   "execution_count": 7,
   "metadata": {},
   "outputs": [
    {
     "name": "stdout",
     "output_type": "stream",
     "text": [
      "your age is  20\n",
      "teenager\n"
     ]
    }
   ],
   "source": [
    "#if的执行是从上往下，一旦有满足条件的，得到了True，便忽略了剩下的elif和else\n",
    "age = 20\n",
    "if age>=6:\n",
    "    print('your age is ', age)\n",
    "    print('teenager')\n",
    "elif age>=18:\n",
    "    print('your age is ', age)\n",
    "    print('you are not a baby')\n",
    "else:\n",
    "    print('just a baby')"
   ]
  },
  {
   "cell_type": "code",
   "execution_count": 9,
   "metadata": {},
   "outputs": [
    {
     "name": "stdout",
     "output_type": "stream",
     "text": [
      "birth:2000\n",
      "00后\n"
     ]
    }
   ],
   "source": [
    "#input()神奇的是在这个分布式记事本也能使用input输入\n",
    "birth = input('birth:')\n",
    "#if birth < 2000:报错是因为input返回的数据类型是str，str不能和int进行比较\n",
    "if int(birth)<2000:\n",
    "    print('00前')\n",
    "else:\n",
    "    print('00后')"
   ]
  },
  {
   "cell_type": "code",
   "execution_count": 10,
   "metadata": {},
   "outputs": [
    {
     "name": "stdout",
     "output_type": "stream",
     "text": [
      "过轻\n"
     ]
    }
   ],
   "source": [
    "height = 1.83\n",
    "weight = 54.2\n",
    "bmi = weight/(height*height)\n",
    "if bmi<18.5:\n",
    "    print('过轻')\n",
    "elif bmi<25:\n",
    "    print('正常')\n",
    "elif bmi<28:\n",
    "    print('过重')\n",
    "elif bmi<32:\n",
    "    print('肥胖')\n",
    "else:\n",
    "    print('严重肥胖')"
   ]
  },
  {
   "cell_type": "code",
   "execution_count": null,
   "metadata": {},
   "outputs": [],
   "source": []
  }
 ],
 "metadata": {
  "kernelspec": {
   "display_name": "Python 3",
   "language": "python",
   "name": "python3"
  },
  "language_info": {
   "codemirror_mode": {
    "name": "ipython",
    "version": 3
   },
   "file_extension": ".py",
   "mimetype": "text/x-python",
   "name": "python",
   "nbconvert_exporter": "python",
   "pygments_lexer": "ipython3",
   "version": "3.6.3"
  }
 },
 "nbformat": 4,
 "nbformat_minor": 2
}
