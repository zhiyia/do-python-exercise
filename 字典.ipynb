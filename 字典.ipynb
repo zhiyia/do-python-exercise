{
 "cells": [
  {
   "cell_type": "markdown",
   "metadata": {},
   "source": [
    "# dict （字典）"
   ]
  },
  {
   "cell_type": "code",
   "execution_count": 1,
   "metadata": {},
   "outputs": [
    {
     "name": "stdout",
     "output_type": "stream",
     "text": [
      "95\n"
     ]
    }
   ],
   "source": [
    "names = ['Michael','Bob','Tracy']\n",
    "scores = ['95','50','85']\n",
    "#这种方式对应索引的取，数据少的时候看不出来，list越长，耗时越长\n",
    "#python自带一种key:value键值对的字典\n",
    "d = {'Michael':95,'Bob':75,'Tracy':85}\n",
    "print(d['Michael'])#依靠key值就能找到对应的value值"
   ]
  },
  {
   "cell_type": "code",
   "execution_count": 3,
   "metadata": {},
   "outputs": [
    {
     "name": "stdout",
     "output_type": "stream",
     "text": [
      "67\n",
      "{'Michael': 95, 'Bob': 75, 'Tracy': 85, 'Adam': 67}\n"
     ]
    }
   ],
   "source": [
    "#除了初始化的方式，还能通过key值放入\n",
    "d['Adam'] = 67\n",
    "print(d['Adam'])\n",
    "print(d)"
   ]
  },
  {
   "cell_type": "code",
   "execution_count": 8,
   "metadata": {},
   "outputs": [
    {
     "name": "stdout",
     "output_type": "stream",
     "text": [
      "False\n",
      "None\n",
      "-1\n"
     ]
    }
   ],
   "source": [
    "#如果key值不存在会报错\n",
    "#print(d['zhangsan'])\n",
    "#这个时候就需要检测是否存在这个key值\n",
    "#一种是 in 方法\n",
    "print('zhangsan' in d)\n",
    "#二种是get()方法\n",
    "print(d.get('zhangsan'))#因为不存在，所以返回None\n",
    "print(d.get('zhangsan',-1))#也可以返回自己制定的value"
   ]
  },
  {
   "cell_type": "code",
   "execution_count": 9,
   "metadata": {},
   "outputs": [
    {
     "name": "stdout",
     "output_type": "stream",
     "text": [
      "{'Michael': 95, 'Tracy': 85, 'Adam': 67}\n"
     ]
    }
   ],
   "source": [
    "#使用pop(key)的方法也能删除key值对应的value值\n",
    "d.pop('Bob')\n",
    "print(d)"
   ]
  },
  {
   "cell_type": "code",
   "execution_count": 10,
   "metadata": {},
   "outputs": [
    {
     "ename": "TypeError",
     "evalue": "unhashable type: 'list'",
     "output_type": "error",
     "traceback": [
      "\u001b[1;31m---------------------------------------------------------------------------\u001b[0m",
      "\u001b[1;31mTypeError\u001b[0m                                 Traceback (most recent call last)",
      "\u001b[1;32m<ipython-input-10-497145c435c7>\u001b[0m in \u001b[0;36m<module>\u001b[1;34m()\u001b[0m\n\u001b[0;32m      7\u001b[0m \u001b[1;31m#因为key的对象不能变，所以list不能作为key\u001b[0m\u001b[1;33m\u001b[0m\u001b[1;33m\u001b[0m\u001b[0m\n\u001b[0;32m      8\u001b[0m \u001b[0mkey\u001b[0m \u001b[1;33m=\u001b[0m \u001b[1;33m[\u001b[0m\u001b[1;36m1\u001b[0m\u001b[1;33m,\u001b[0m\u001b[1;36m2\u001b[0m\u001b[1;33m]\u001b[0m\u001b[1;33m\u001b[0m\u001b[0m\n\u001b[1;32m----> 9\u001b[1;33m \u001b[0md\u001b[0m\u001b[1;33m[\u001b[0m\u001b[0mkey\u001b[0m\u001b[1;33m]\u001b[0m \u001b[1;33m=\u001b[0m \u001b[1;34m'a list'\u001b[0m\u001b[1;33m\u001b[0m\u001b[0m\n\u001b[0m",
      "\u001b[1;31mTypeError\u001b[0m: unhashable type: 'list'"
     ]
    }
   ],
   "source": [
    "#dict优点：插入查找速度极快，不会随着key的增加而变慢\n",
    "#dict缺点：占用大量的内存，内存浪费的多\n",
    "#list优点：查找和插入的时间随着元素的增加而增加\n",
    "#list缺点：占用空间小，浪费的内存小\n",
    "#dict 是一种牺牲空间换取时间的一种方法\n",
    "#牢记dict的key是不可变对象，dict是根据key值来计算value的存储位置的，即hash算法\n",
    "#因为key的对象不能变，所以list不能作为key\n",
    "#以下肯定会报错\n",
    "#key = [1,2]\n",
    "#d[key] = 'a list'"
   ]
  },
  {
   "cell_type": "markdown",
   "metadata": {},
   "source": [
    "# set(集合)"
   ]
  },
  {
   "cell_type": "code",
   "execution_count": 11,
   "metadata": {},
   "outputs": [
    {
     "name": "stdout",
     "output_type": "stream",
     "text": [
      "{1, 2, 3}\n"
     ]
    }
   ],
   "source": [
    "s = set([1,2,3])#集合的创建需要一个list作为输入集合\n",
    "print(s)"
   ]
  },
  {
   "cell_type": "code",
   "execution_count": 13,
   "metadata": {},
   "outputs": [
    {
     "name": "stdout",
     "output_type": "stream",
     "text": [
      "{1, 2, 3, 4, 5, 6}\n"
     ]
    }
   ],
   "source": [
    "s = set([1,2,3,4,5,6,1,2,3])\n",
    "print(s)#集合的特性，重复的元素自动被过滤"
   ]
  },
  {
   "cell_type": "code",
   "execution_count": 16,
   "metadata": {},
   "outputs": [
    {
     "name": "stdout",
     "output_type": "stream",
     "text": [
      "{1, 2, 3, 4, 5, 6}\n",
      "{1, 2, 3, 5, 6}\n"
     ]
    }
   ],
   "source": [
    "s.add(4)#add()方法添加元素，但是重复元素，添加无效果\n",
    "print(s)\n",
    "s.remove(4)#remove()方法删除元素\n",
    "print(s)"
   ]
  },
  {
   "cell_type": "code",
   "execution_count": 17,
   "metadata": {},
   "outputs": [
    {
     "name": "stdout",
     "output_type": "stream",
     "text": [
      "{2, 3}\n",
      "{1, 2, 3, 4}\n"
     ]
    }
   ],
   "source": [
    "#set可以做数学意义上的交集，并集\n",
    "s1 = set([1,2,3])\n",
    "s2 = set([2,3,4])\n",
    "print(s1 & s2)#交集\n",
    "print(s1 | s2)#并集"
   ]
  },
  {
   "cell_type": "markdown",
   "metadata": {},
   "source": [
    "# 议论不可变对象"
   ]
  },
  {
   "cell_type": "code",
   "execution_count": 18,
   "metadata": {},
   "outputs": [
    {
     "name": "stdout",
     "output_type": "stream",
     "text": [
      "['a', 'b', 'c']\n"
     ]
    }
   ],
   "source": [
    "#一般来说str是不变对象，list是可变对象\n",
    "#对list来说，list内部的内容是会变化的\n",
    "a = ['c','b','a']\n",
    "a.sort()\n",
    "print(a)"
   ]
  },
  {
   "cell_type": "code",
   "execution_count": 20,
   "metadata": {},
   "outputs": [
    {
     "name": "stdout",
     "output_type": "stream",
     "text": [
      "Abc\n",
      "abc\n"
     ]
    }
   ],
   "source": [
    "#对于不可变对象str来进行操作\n",
    "a = 'abc'\n",
    "print(a.replace('a','A'))\n",
    "print(a)"
   ]
  },
  {
   "cell_type": "code",
   "execution_count": 21,
   "metadata": {},
   "outputs": [],
   "source": [
    "#其实可以理解为repalce方法将'abc'变成了'Abc'，然后创建了一个新的字符串'Abc'并且返回\n",
    "#a这个变量仍然指向原有的字符串'abc'，而a.replace('a','A')可以把这一堆当成变量b，指向的是'Abc'"
   ]
  },
  {
   "cell_type": "code",
   "execution_count": 34,
   "metadata": {},
   "outputs": [
    {
     "name": "stdout",
     "output_type": "stream",
     "text": [
      "{'Michael': 95, 'Tracy': 85, 'Adam': 67, 'a': 1, 'b': 2, (1, 2, 3): 1}\n",
      "[(1, 2, 3), (1, [2, 3])]\n"
     ]
    }
   ],
   "source": [
    "a = (1,2,3)\n",
    "b = (1,[2,3])\n",
    "#d = ['a':1,'b':2]#这样的报错了，:出问题了\n",
    "#换个方式\n",
    "d[a] = 1\n",
    "#d[b] = 2这个报错了\n",
    "s = ([(1,2,3),(1,[2,3])])#set里没有任何问题\n",
    "print(d)\n",
    "print(s)\n",
    "#为什么呢\n",
    "#百度的答案：tuple b 里的[2,3]是一个list,list是可变的，但是dict的key是不可变对象\n",
    "#因为dict要根据key值来计算value的存储位置，如果每次计算相同的key值得出的结果不同，\n",
    "#dict内部就会混乱"
   ]
  },
  {
   "cell_type": "code",
   "execution_count": null,
   "metadata": {},
   "outputs": [],
   "source": []
  }
 ],
 "metadata": {
  "kernelspec": {
   "display_name": "Python 3",
   "language": "python",
   "name": "python3"
  },
  "language_info": {
   "codemirror_mode": {
    "name": "ipython",
    "version": 3
   },
   "file_extension": ".py",
   "mimetype": "text/x-python",
   "name": "python",
   "nbconvert_exporter": "python",
   "pygments_lexer": "ipython3",
   "version": "3.6.3"
  }
 },
 "nbformat": 4,
 "nbformat_minor": 2
}
